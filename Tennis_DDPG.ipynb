{
 "cells": [
  {
   "cell_type": "markdown",
   "metadata": {},
   "source": [
    "# Collaboration and Competition\n",
    "\n",
    "---\n",
    "\n",
    "In this notebook, you will learn how to use the Unity ML-Agents environment for the third project of the [Deep Reinforcement Learning Nanodegree](https://www.udacity.com/course/deep-reinforcement-learning-nanodegree--nd893) program.\n",
    "\n",
    "### 1. Start the Environment\n",
    "\n",
    "We begin by importing the necessary packages.  If the code cell below returns an error, please revisit the project instructions to double-check that you have installed [Unity ML-Agents](https://github.com/Unity-Technologies/ml-agents/blob/master/docs/Installation.md) and [NumPy](http://www.numpy.org/)."
   ]
  },
  {
   "cell_type": "code",
   "execution_count": 1,
   "metadata": {},
   "outputs": [],
   "source": [
    "from unityagents import UnityEnvironment\n",
    "import numpy as np\n",
    "import torch"
   ]
  },
  {
   "cell_type": "markdown",
   "metadata": {},
   "source": [
    "Next, we will start the environment!  **_Before running the code cell below_**, change the `file_name` parameter to match the location of the Unity environment that you downloaded.\n",
    "\n",
    "- **Mac**: `\"path/to/Tennis.app\"`\n",
    "- **Windows** (x86): `\"path/to/Tennis_Windows_x86/Tennis.exe\"`\n",
    "- **Windows** (x86_64): `\"path/to/Tennis_Windows_x86_64/Tennis.exe\"`\n",
    "- **Linux** (x86): `\"path/to/Tennis_Linux/Tennis.x86\"`\n",
    "- **Linux** (x86_64): `\"path/to/Tennis_Linux/Tennis.x86_64\"`\n",
    "- **Linux** (x86, headless): `\"path/to/Tennis_Linux_NoVis/Tennis.x86\"`\n",
    "- **Linux** (x86_64, headless): `\"path/to/Tennis_Linux_NoVis/Tennis.x86_64\"`\n",
    "\n",
    "For instance, if you are using a Mac, then you downloaded `Tennis.app`.  If this file is in the same folder as the notebook, then the line below should appear as follows:\n",
    "```\n",
    "env = UnityEnvironment(file_name=\"Tennis.app\")\n",
    "```"
   ]
  },
  {
   "cell_type": "code",
   "execution_count": 2,
   "metadata": {},
   "outputs": [
    {
     "name": "stderr",
     "output_type": "stream",
     "text": [
      "INFO:unityagents:\n",
      "'Academy' started successfully!\n",
      "Unity Academy name: Academy\n",
      "        Number of Brains: 1\n",
      "        Number of External Brains : 1\n",
      "        Lesson number : 0\n",
      "        Reset Parameters :\n",
      "\t\t\n",
      "Unity brain name: TennisBrain\n",
      "        Number of Visual Observations (per agent): 0\n",
      "        Vector Observation space type: continuous\n",
      "        Vector Observation space size (per agent): 8\n",
      "        Number of stacked Vector Observation: 3\n",
      "        Vector Action space type: continuous\n",
      "        Vector Action space size (per agent): 2\n",
      "        Vector Action descriptions: , \n"
     ]
    }
   ],
   "source": [
    "env = UnityEnvironment(file_name=\"Tennis_Linux/Tennis.x86_64\")"
   ]
  },
  {
   "cell_type": "markdown",
   "metadata": {},
   "source": [
    "Environments contain **_brains_** which are responsible for deciding the actions of their associated agents. Here we check for the first brain available, and set it as the default brain we will be controlling from Python."
   ]
  },
  {
   "cell_type": "code",
   "execution_count": 3,
   "metadata": {},
   "outputs": [],
   "source": [
    "# get the default brain\n",
    "brain_name = env.brain_names[0]\n",
    "brain = env.brains[brain_name]"
   ]
  },
  {
   "cell_type": "markdown",
   "metadata": {},
   "source": [
    "### 2. Examine the State and Action Spaces\n",
    "\n",
    "In this environment, two agents control rackets to bounce a ball over a net. If an agent hits the ball over the net, it receives a reward of +0.1.  If an agent lets a ball hit the ground or hits the ball out of bounds, it receives a reward of -0.01.  Thus, the goal of each agent is to keep the ball in play.\n",
    "\n",
    "The observation space consists of 8 variables corresponding to the position and velocity of the ball and racket. Two continuous actions are available, corresponding to movement toward (or away from) the net, and jumping. \n",
    "\n",
    "Run the code cell below to print some information about the environment."
   ]
  },
  {
   "cell_type": "code",
   "execution_count": 4,
   "metadata": {},
   "outputs": [
    {
     "name": "stdout",
     "output_type": "stream",
     "text": [
      "Number of agents: 2\n",
      "Size of each action: 2\n",
      "There are 2 agents. Each observes a state with length: 24\n",
      "The state for the first agent looks like: [ 0.          0.          0.          0.          0.          0.\n",
      "  0.          0.          0.          0.          0.          0.\n",
      "  0.          0.          0.          0.         -6.65278625 -1.5\n",
      " -0.          0.          6.83172083  6.         -0.          0.        ]\n"
     ]
    }
   ],
   "source": [
    "# reset the environment\n",
    "env_info = env.reset(train_mode=True)[brain_name]\n",
    "\n",
    "# number of agents \n",
    "num_agents = len(env_info.agents)\n",
    "print('Number of agents:', num_agents)\n",
    "\n",
    "# size of each action\n",
    "action_size = brain.vector_action_space_size\n",
    "print('Size of each action:', action_size)\n",
    "\n",
    "# examine the state space \n",
    "states = env_info.vector_observations\n",
    "state_size = states.shape[1]\n",
    "print('There are {} agents. Each observes a state with length: {}'.format(states.shape[0], state_size))\n",
    "print('The state for the first agent looks like:', states[0])"
   ]
  },
  {
   "cell_type": "markdown",
   "metadata": {},
   "source": [
    "### 3. Take Random Actions in the Environment\n",
    "\n",
    "In the next code cell, you will learn how to use the Python API to control the agents and receive feedback from the environment.\n",
    "\n",
    "Once this cell is executed, you will watch the agents' performance, if they select actions at random with each time step.  A window should pop up that allows you to observe the agents.\n",
    "\n",
    "Of course, as part of the project, you'll have to change the code so that the agents are able to use their experiences to gradually choose better actions when interacting with the environment!"
   ]
  },
  {
   "cell_type": "code",
   "execution_count": 5,
   "metadata": {},
   "outputs": [
    {
     "name": "stdout",
     "output_type": "stream",
     "text": [
      "Score (max over agents) from episode 1: 0.09000000171363354\n",
      "Score (max over agents) from episode 2: 0.0\n",
      "Score (max over agents) from episode 3: 0.0\n",
      "Score (max over agents) from episode 4: 0.0\n",
      "Score (max over agents) from episode 5: 0.0\n"
     ]
    }
   ],
   "source": [
    "for i in range(1, 6):                                      # play game for 5 episodes\n",
    "    env_info = env.reset(train_mode=False)[brain_name]     # reset the environment    \n",
    "    states = env_info.vector_observations                  # get the current state (for each agent)\n",
    "    scores = np.zeros(num_agents)                          # initialize the score (for each agent)\n",
    "    while True:\n",
    "        actions = np.random.randn(num_agents, action_size) # select an action (for each agent)\n",
    "        actions = np.clip(actions, -1, 1)                  # all actions between -1 and 1\n",
    "        env_info = env.step(actions)[brain_name]           # send all actions to tne environment\n",
    "        next_states = env_info.vector_observations         # get next state (for each agent)\n",
    "        rewards = env_info.rewards                         # get reward (for each agent)\n",
    "        dones = env_info.local_done                        # see if episode finished\n",
    "        scores += env_info.rewards                         # update the score (for each agent)\n",
    "        states = next_states                               # roll over states to next time step\n",
    "        if np.any(dones):                                  # exit loop if episode finished\n",
    "            break\n",
    "    print('Score (max over agents) from episode {}: {}'.format(i, np.max(scores)))\n",
    " "
   ]
  },
  {
   "cell_type": "markdown",
   "metadata": {},
   "source": [
    "When finished, you can close the environment."
   ]
  },
  {
   "cell_type": "markdown",
   "metadata": {},
   "source": [
    "### 4. It's Your Turn!\n",
    "\n",
    "Now it's your turn to train your own agent to solve the environment!  When training the environment, set `train_mode=True`, so that the line for resetting the environment looks like the following:\n",
    "```python\n",
    "env_info = env.reset(train_mode=True)[brain_name]\n",
    "```"
   ]
  },
  {
   "cell_type": "code",
   "execution_count": 6,
   "metadata": {},
   "outputs": [],
   "source": [
    "from collections import deque\n",
    "import matplotlib.pyplot as plt\n",
    "%matplotlib inline\n",
    "\n",
    "def train_double_ddpg(n_episodes=3000):\n",
    "\n",
    "    scores_deque = deque(maxlen=100)\n",
    "    scores = []\n",
    "\n",
    "    for i_episode in range(1, n_episodes+1):\n",
    "    \n",
    "        env_info = env.reset(train_mode=True)[brain_name]\n",
    "        states = env_info.vector_observations        \n",
    "        score_A = 0\n",
    "        score_B = 0\n",
    "        score = 0\n",
    "        \n",
    "        agent_A.reset()\n",
    "        agent_B.reset()\n",
    "        \n",
    "        \n",
    "        while True:\n",
    "\n",
    "            \n",
    "            state_A = states[0]\n",
    "            state_B = states[1]\n",
    "            \n",
    "            action_A = agent_A.act(state_A)\n",
    "            action_B = agent_B.act(state_B)\n",
    "            actions = np.asarray([action_A, action_B])\n",
    "            \n",
    "            env_info = env.step(actions)[brain_name]\n",
    "            next_states = env_info.vector_observations\n",
    "            next_state_A = next_states[0]\n",
    "            next_state_B = next_states[1]\n",
    "            \n",
    "            rewards = env_info.rewards \n",
    "            reward_A = rewards[0]\n",
    "            reward_B = rewards[1]\n",
    "                      \n",
    "            dones = env_info.local_done\n",
    "            done_A = dones[0]\n",
    "            done_B = dones[1]\n",
    "            \n",
    "            # Update agent A\n",
    "            agent_A.step(state_A, \n",
    "                         action_A,\n",
    "                         reward_A,\n",
    "                         next_state_A,\n",
    "                         done_A)\n",
    "            \n",
    "            # Update agent B\n",
    "            agent_B.step(state_B, \n",
    "                         action_B,\n",
    "                         reward_B,\n",
    "                         next_state_B,\n",
    "                         done_B)\n",
    "            \n",
    "            states = next_states\n",
    "            \n",
    "            \n",
    "            score += np.max(rewards)\n",
    "            score_A += reward_A\n",
    "            score_B += reward_B\n",
    "            \n",
    "            if np.any(dones):\n",
    "                break \n",
    "                \n",
    "    \n",
    "        scores_deque.append(score)\n",
    "        scores.append(score)\n",
    "         \n",
    "\n",
    "        msg = '\\rEpisode {}\\tAverage Score: {:.3f}\\tScore: {:.2f}\\tScore_A: {:.2f}\\tScore_B: {:.2f}'\n",
    "        print(msg.format(i_episode, np.mean(scores_deque), score, score_A, score_B), end=\"\")\n",
    "          \n",
    "        if i_episode % 100 == 0:\n",
    "            print(msg.format(i_episode, np.mean(scores_deque), score, score_A, score_B))\n",
    "\n",
    "                    \n",
    "        if np.mean(scores_deque) >= 0.5:\n",
    "            msg = '\\nEnvironment solved in {:d} episodes!\\tAverage Score: {:.3f}'\n",
    "            print(msg.format(i_episode-100, np.mean(scores_deque)))\n",
    "            break\n",
    "                \n",
    "\n",
    "\n",
    "\n",
    "\n",
    "    return scores\n",
    "\n",
    "\n"
   ]
  },
  {
   "cell_type": "code",
   "execution_count": 7,
   "metadata": {},
   "outputs": [
    {
     "name": "stdout",
     "output_type": "stream",
     "text": [
      "Episode 100\tAverage Score: 0.022\tScore: 0.00\tScore_A: 0.00\tScore_B: -0.01\n",
      "Episode 200\tAverage Score: 0.071\tScore: 0.20\tScore_A: 0.10\tScore_B: 0.091\n",
      "Episode 300\tAverage Score: 0.213\tScore: 0.20\tScore_A: 0.09\tScore_B: 0.101\n",
      "Episode 400\tAverage Score: 0.443\tScore: 2.50\tScore_A: 1.30\tScore_B: 1.191\n",
      "Episode 437\tAverage Score: 0.520\tScore: 2.60\tScore_A: 1.29\tScore_B: 1.301\n",
      "Environment solved in 337 episodes!\tAverage Score: 0.520\n",
      "\n",
      "Average exceeded threshold in episode in 438.\tAverage Score: 0.52\n"
     ]
    },
    {
     "data": {
      "image/png": "[encoded data removed]",
      "text/plain": [
       "<Figure size 432x288 with 1 Axes>"
      ]
     },
     "metadata": {
      "needs_background": "light"
     },
     "output_type": "display_data"
    }
   ],
   "source": [
    "from DDPG_Agent import DDPG\n",
    "\n",
    "\n",
    "\n",
    "DDPG_parameter = dict()\n",
    "DDPG_parameter[\"state_size\"] = states.shape[1]\n",
    "DDPG_parameter[\"action_size\"] = brain.vector_action_space_size\n",
    "DDPG_parameter[\"random_seed\"] = 0\n",
    "DDPG_parameter[\"gamma\"] = 0.99\n",
    "DDPG_parameter[\"lr_actor\"] = 1e-4\n",
    "DDPG_parameter[\"lr_critic\"] = 3e-4\n",
    "DDPG_parameter[\"weight_decay\"] = 0\n",
    "DDPG_parameter[\"tau\"] = 2e-1\n",
    "DDPG_parameter[\"update_rate\"] = 5\n",
    "DDPG_parameter[\"updates_per_step\"] = 10\n",
    "DDPG_parameter[\"buffer_size\"] = int(1e5)\n",
    "DDPG_parameter[\"batch_size\"] = 512\n",
    "\n",
    "agent_A = DDPG(**DDPG_parameter)\n",
    "agent_B = DDPG(**DDPG_parameter)\n",
    "\n",
    "scores = train_double_ddpg()\n",
    "ma_scores = np.convolve(scores, np.ones((100,))/100, mode='valid')\n",
    "idx_solved = next(x for x, val in enumerate(ma_scores) if val > 0.5) + 100\n",
    "msg = '\\nAverage exceeded threshold in episode in {:d}.\\tAverage Score: {:.2f}'\n",
    "print(msg.format(idx_solved+1, ma_scores[idx_solved-100]))\n",
    "\n",
    "\n",
    "\n",
    "fig = plt.figure()\n",
    "plt.rc('axes', labelsize=14)\n",
    "plt.rc('xtick', labelsize=12) \n",
    "plt.rc('ytick', labelsize=12)\n",
    "ax = fig.add_subplot(111)\n",
    "plt.plot(np.arange(1, len(scores)+1), scores)\n",
    "plt.plot(np.arange(100, len(scores)+1), ma_scores)\n",
    "plt.ylabel('Score')\n",
    "plt.xlabel('Episode #')\n",
    "plt.show()\n",
    "fig.savefig('scores_ddpg.pdf', format='pdf')\n",
    "\n",
    "\n",
    "\n",
    "torch.save(agent_A.actor_local.state_dict(), \"ddpg_actor_A.pth\")\n",
    "torch.save(agent_A.critic_local.state_dict(), \"ddpg_critic_A.pth\")\n",
    "torch.save(agent_B.actor_local.state_dict(), \"ddpg_actor_B.pth\")\n",
    "torch.save(agent_B.critic_local.state_dict(), \"ddpg_critic_B.pth\")"
   ]
  },
  {
   "cell_type": "code",
   "execution_count": 8,
   "metadata": {},
   "outputs": [
    {
     "name": "stdout",
     "output_type": "stream",
     "text": [
      "Score (max over agents) from episode 1: 0.20000000298023224\n",
      "Score (max over agents) from episode 2: 0.0\n",
      "Score (max over agents) from episode 3: 0.6000000089406967\n",
      "Score (max over agents) from episode 4: 0.800000011920929\n",
      "Score (max over agents) from episode 5: 2.0000000298023224\n"
     ]
    }
   ],
   "source": [
    "for i in range(1, 6):                                      # play game for 5 episodes\n",
    "    env_info = env.reset(train_mode=False)[brain_name]     # reset the environment    \n",
    "    states = env_info.vector_observations                  # get the current state (for each agent)\n",
    "    scores_eval = np.zeros(num_agents)                     # initialize the score (for each agent)\n",
    "    \n",
    "    while True:\n",
    "        state_A = states[0]\n",
    "        state_B = states[1]\n",
    "        action_A = agent_A.act(state_A)\n",
    "        action_B = agent_B.act(state_B)\n",
    "        actions = np.asarray([action_A, action_B])\n",
    "        env_info = env.step(actions)[brain_name]           # send all actions to tne environment\n",
    "        next_states = env_info.vector_observations         # get next state (for each agent)\n",
    "        next_state_A = next_states[0]\n",
    "        next_state_B = next_states[1]\n",
    "        rewards = env_info.rewards                         # get reward (for each agent)\n",
    "        scores_eval += np.max(rewards)\n",
    "        dones = env_info.local_done                        # see if episode finished\n",
    "        states = next_states                               # roll over states to next time step\n",
    "        if np.any(dones):                                  # exit loop if episode finished\n",
    "            break\n",
    "    print('Score (max over agents) from episode {}: {}'.format(i, np.max(scores_eval)))\n",
    "    "
   ]
  },
  {
   "cell_type": "markdown",
   "metadata": {},
   "source": [
    "When finished, you can close the environment."
   ]
  },
  {
   "cell_type": "code",
   "execution_count": 9,
   "metadata": {},
   "outputs": [],
   "source": [
    "env.close()"
   ]
  }
 ],
 "metadata": {
  "kernelspec": {
   "display_name": "drlnd",
   "language": "python",
   "name": "drlnd"
  },
  "language_info": {
   "codemirror_mode": {
    "name": "ipython",
    "version": 3
   },
   "file_extension": ".py",
   "mimetype": "text/x-python",
   "name": "python",
   "nbconvert_exporter": "python",
   "pygments_lexer": "ipython3",
   "version": "3.6.9"
  }
 },
 "nbformat": 4,
 "nbformat_minor": 4
}
